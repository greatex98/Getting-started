{
  "cells": [
    {
      "cell_type": "markdown",
      "metadata": {
        "id": "view-in-github",
        "colab_type": "text"
      },
      "source": [
        "<a href=\"https://colab.research.google.com/github/greatex98/Getting-started/blob/main/lab3_4_trucks.ipynb\" target=\"_parent\"><img src=\"https://colab.research.google.com/assets/colab-badge.svg\" alt=\"Open In Colab\"/></a>"
      ]
    },
    {
      "cell_type": "markdown",
      "source": [
        "# collect / import  Data"
      ],
      "metadata": {
        "id": "sdFRyrgAFrIl"
      },
      "id": "sdFRyrgAFrIl"
    },
    {
      "cell_type": "code",
      "execution_count": null,
      "id": "72ce8cfb-a44e-47bc-b3ca-bfb16f452151",
      "metadata": {
        "id": "72ce8cfb-a44e-47bc-b3ca-bfb16f452151",
        "outputId": "d38f1dd9-180d-4673-ebe4-b321f610dda5"
      },
      "outputs": [
        {
          "name": "stdout",
          "output_type": "stream",
          "text": [
            "<class 'pandas.core.frame.DataFrame'>\n",
            "RangeIndex: 23 entries, 0 to 22\n",
            "Data columns (total 2 columns):\n",
            " #   Column      Non-Null Count  Dtype  \n",
            "---  ------      --------------  -----  \n",
            " 0   list_price  23 non-null     float64\n",
            " 1   best_price  23 non-null     float64\n",
            "dtypes: float64(2)\n",
            "memory usage: 500.0 bytes\n",
            "None\n",
            "   list_price  best_price\n",
            "0        12.4        11.2\n",
            "1        14.3        12.5\n",
            "2        14.5        12.7\n",
            "3        14.9        13.1\n",
            "4        16.1        14.1\n"
          ]
        }
      ],
      "source": [
        "import pandas as pd\n",
        "\n",
        "# Load the dataset\n",
        "df = pd.read_csv('/Users/hyunsushin/Downloads/lab3_4_trucks.csv')\n",
        "\n",
        "# Check the data structure of the dataset\n",
        "print(df.info())\n",
        "\n",
        "# Look at the first 5 rows\n",
        "print(df.head())\n"
      ]
    },
    {
      "cell_type": "markdown",
      "source": [
        "# Discover and Visualize Data"
      ],
      "metadata": {
        "id": "ktOEW4dmFlqA"
      },
      "id": "ktOEW4dmFlqA"
    },
    {
      "cell_type": "code",
      "execution_count": null,
      "id": "02f806da-ee68-4572-a3a4-65558ee83e53",
      "metadata": {
        "id": "02f806da-ee68-4572-a3a4-65558ee83e53",
        "outputId": "e2d441b4-ab5d-47ec-c90c-4e218aee96e5"
      },
      "outputs": [
        {
          "data": {
            "image/png": "[encoded data removed]",
            "text/plain": [
              "<Figure size 640x480 with 1 Axes>"
            ]
          },
          "metadata": {},
          "output_type": "display_data"
        }
      ],
      "source": [
        "import matplotlib.pyplot as plt\n",
        "\n",
        "# Scatter plot to visualize the relationship\n",
        "plt.scatter(df['list_price'], df['best_price'])\n",
        "plt.xlabel('List Price (in $1000)')\n",
        "plt.ylabel('Best Price (in $1000)')\n",
        "plt.title('List Price vs Best Price')\n",
        "plt.show()\n"
      ]
    },
    {
      "cell_type": "code",
      "execution_count": null,
      "id": "d82298c4-0915-44e9-9a2e-6817aef7c46d",
      "metadata": {
        "id": "d82298c4-0915-44e9-9a2e-6817aef7c46d"
      },
      "outputs": [],
      "source": [
        "from sklearn.model_selection import train_test_split\n",
        "\n",
        "X = df[['list_price']]\n",
        "y = df['best_price']\n",
        "\n",
        "# Split the data into training and test sets\n",
        "X_train, X_test, y_train, y_test = train_test_split(X, y, test_size=0.2, random_state=42)\n"
      ]
    },
    {
      "cell_type": "markdown",
      "source": [
        "# Linear Regression"
      ],
      "metadata": {
        "id": "XQPGaGPeFiLP"
      },
      "id": "XQPGaGPeFiLP"
    },
    {
      "cell_type": "code",
      "execution_count": null,
      "id": "bbe322de-c770-4442-9da4-54012bbccd7f",
      "metadata": {
        "id": "bbe322de-c770-4442-9da4-54012bbccd7f"
      },
      "outputs": [],
      "source": [
        "from sklearn.linear_model import LinearRegression\n",
        "\n",
        "# Initialize and fit the model\n",
        "linear_model = LinearRegression()\n",
        "linear_model.fit(X_train, y_train)\n",
        "\n",
        "# Linear Regression\n",
        "y_pred_linear = linear_model.predict(X_test)\n"
      ]
    },
    {
      "cell_type": "markdown",
      "source": [
        "# Decision Tree"
      ],
      "metadata": {
        "id": "v9fTQwD1Ff4w"
      },
      "id": "v9fTQwD1Ff4w"
    },
    {
      "cell_type": "code",
      "execution_count": null,
      "id": "ae5eec6e-9aee-443b-9067-73fe25c96995",
      "metadata": {
        "id": "ae5eec6e-9aee-443b-9067-73fe25c96995"
      },
      "outputs": [],
      "source": [
        "from sklearn.tree import DecisionTreeRegressor\n",
        "# Decision Tree Regression\n",
        "tree_model = DecisionTreeRegressor()\n",
        "tree_model.fit(X_train, y_train)\n",
        "y_pred_tree = tree_model.predict(X_test)\n"
      ]
    },
    {
      "cell_type": "markdown",
      "source": [
        "# Randdom Forest Regression"
      ],
      "metadata": {
        "id": "WZ2tjDnQFdJN"
      },
      "id": "WZ2tjDnQFdJN"
    },
    {
      "cell_type": "code",
      "execution_count": null,
      "id": "a84b38ed-8f4d-406d-a20d-669c8114656e",
      "metadata": {
        "id": "a84b38ed-8f4d-406d-a20d-669c8114656e"
      },
      "outputs": [],
      "source": [
        "from sklearn.ensemble import RandomForestRegressor\n",
        "# random Forest Regression\n",
        "forest_model = RandomForestRegressor(n_estimators=100, random_state=42)\n",
        "forest_model.fit(X_train, y_train)\n",
        "y_pred_forest = forest_model.predict(X_test)\n"
      ]
    },
    {
      "cell_type": "markdown",
      "source": [
        "# Explore diffrent models / performance metrics"
      ],
      "metadata": {
        "id": "1Dq0ni4WFUPK"
      },
      "id": "1Dq0ni4WFUPK"
    },
    {
      "cell_type": "code",
      "execution_count": null,
      "id": "7e32163a-ac50-4725-86c1-d1f4fcf37da5",
      "metadata": {
        "id": "7e32163a-ac50-4725-86c1-d1f4fcf37da5",
        "outputId": "6d5ca772-b209-43a1-fc29-f1a6aed55b6c"
      },
      "outputs": [
        {
          "name": "stdout",
          "output_type": "stream",
          "text": [
            "Linear Regression: MAE = 0.07698839174805627, R2 = 0.9945398318743364\n",
            "Decision Tree: MAE = 0.45999984799999966, R2 = 0.8657944505087228\n",
            "Random Forest: MAE = 0.4507997541400027, R2 = 0.8379197739621312\n"
          ]
        }
      ],
      "source": [
        "from sklearn.metrics import mean_absolute_error, r2_score\n",
        "\n",
        "# Evaluate Linear Regression\n",
        "mae_linear = mean_absolute_error(y_test, y_pred_linear)\n",
        "r2_linear = r2_score(y_test, y_pred_linear)\n",
        "\n",
        "# Evaluate Decision Tree\n",
        "mae_tree = mean_absolute_error(y_test, y_pred_tree)\n",
        "r2_tree = r2_score(y_test, y_pred_tree)\n",
        "\n",
        "# Evaluate Random Forest\n",
        "mae_forest = mean_absolute_error(y_test, y_pred_forest)\n",
        "r2_forest = r2_score(y_test, y_pred_forest)\n",
        "\n",
        "print(f\"Linear Regression: MAE = {mae_linear}, R2 = {r2_linear}\")\n",
        "print(f\"Decision Tree: MAE = {mae_tree}, R2 = {r2_tree}\")\n",
        "print(f\"Random Forest: MAE = {mae_forest}, R2 = {r2_forest}\")\n"
      ]
    },
    {
      "cell_type": "markdown",
      "source": [
        "# Prediction when list price is $15000"
      ],
      "metadata": {
        "id": "gRdR2JYqFPEt"
      },
      "id": "gRdR2JYqFPEt"
    },
    {
      "cell_type": "code",
      "execution_count": null,
      "id": "8bdc20a4-0919-4211-80db-be700c35394a",
      "metadata": {
        "id": "8bdc20a4-0919-4211-80db-be700c35394a"
      },
      "outputs": [],
      "source": [
        "# Predict the best price when the list price is $15,000\n",
        "list_price_input = 15000\n",
        "\n",
        "# Reshape the input to match the expected format for the model (2D array)\n",
        "list_price_input_reshaped = [[list_price_input]]\n",
        "\n",
        "# Use the linear regression model to predict the best price\n",
        "predicted_best_price = linear_model.predict(list_price_input_reshaped)\n",
        "\n",
        "print(f\"Predicted best price for a list price of ${list_price_input}: ${predicted_best_price[0]:.2f}\")\n"
      ]
    },
    {
      "cell_type": "code",
      "execution_count": null,
      "id": "0aab1a90-7fb1-437c-b4ca-dc75428b6dea",
      "metadata": {
        "id": "0aab1a90-7fb1-437c-b4ca-dc75428b6dea"
      },
      "outputs": [],
      "source": []
    },
    {
      "cell_type": "code",
      "execution_count": null,
      "id": "0c02f2af-4fc3-4b72-ae95-2621fa45abdd",
      "metadata": {
        "id": "0c02f2af-4fc3-4b72-ae95-2621fa45abdd"
      },
      "outputs": [],
      "source": []
    },
    {
      "cell_type": "code",
      "execution_count": null,
      "id": "a41bb2b0-dc08-49ac-bd2a-36d7d349654d",
      "metadata": {
        "id": "a41bb2b0-dc08-49ac-bd2a-36d7d349654d"
      },
      "outputs": [],
      "source": []
    }
  ],
  "metadata": {
    "kernelspec": {
      "display_name": "Python 3 (ipykernel)",
      "language": "python",
      "name": "python3"
    },
    "language_info": {
      "codemirror_mode": {
        "name": "ipython",
        "version": 3
      },
      "file_extension": ".py",
      "mimetype": "text/x-python",
      "name": "python",
      "nbconvert_exporter": "python",
      "pygments_lexer": "ipython3",
      "version": "3.11.5"
    },
    "colab": {
      "provenance": [],
      "include_colab_link": true
    }
  },
  "nbformat": 4,
  "nbformat_minor": 5
}